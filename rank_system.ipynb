{
  "nbformat": 4,
  "nbformat_minor": 0,
  "metadata": {
    "colab": {
      "provenance": []
    },
    "kernelspec": {
      "name": "python3",
      "display_name": "Python 3"
    },
    "language_info": {
      "name": "python"
    }
  },
  "cells": [
    {
      "cell_type": "markdown",
      "source": [
        "# Objetivo\n",
        "\n",
        "Criar um sistema de ranqueamento para conseguir classificar as concessionárias baseado na [Resolução n° 6.053 da ANTT](https://www.in.gov.br/en/web/dou/-/resolucao-n-6.053-de-31-de-outubro-de-2024-593328784)\n",
        "\n",
        "## Fórmula da Nota global\n",
        "$$\n",
        "NG = 0,20 \\left( \\frac{\\overline{P_{IRI}} + \\overline{P_{DC}} + \\overline{P_{TR}} + \\overline{P_{IFI}} + \\overline{P_{\\%TRIN}}}{5} \\right) + 0,10 \\left[ 0,5 \\overline{S_{RSH}} + 0,5 \\left( \\frac{\\overline{S_{RSV}} + \\overline{S_{SSV}} + \\overline{S_{CSV}}}{3} \\right) \\right] + 0,05 \\left( \\frac{\\overline{OAC_{DS}} + \\overline{OAC_{DP}}}{2} \\right) + 0,05 \\overline{OAE} + 0,025 \\overline{IDA} + 0,05 \\overline{O_{EAn}} + 0,25 \\overline{O_{EAc}} + 0,10 \\left( \\frac{\\overline{U_{IS}} + \\overline{U_{SA}} + \\overline{U_{RR}} + \\overline{U_{PR}}}{4} \\right) + 0,10 \\overline{U_{SMéd}} + 0,10 \\overline{U_{SMec}}\n",
        "$$\n"
      ],
      "metadata": {
        "id": "PAX4o0rNMRKx"
      }
    },
    {
      "cell_type": "code",
      "execution_count": 11,
      "metadata": {
        "colab": {
          "base_uri": "https://localhost:8080/"
        },
        "collapsed": true,
        "id": "MGJSWZCRZoIY",
        "outputId": "d4d220ae-39b2-444a-8fe2-dff68c48528e"
      },
      "outputs": [
        {
          "output_type": "stream",
          "name": "stdout",
          "text": [
            "Requirement already satisfied: numpy in /usr/local/lib/python3.12/dist-packages (2.0.2)\n",
            "Requirement already satisfied: pandas in /usr/local/lib/python3.12/dist-packages (2.2.2)\n",
            "Requirement already satisfied: python-dateutil>=2.8.2 in /usr/local/lib/python3.12/dist-packages (from pandas) (2.9.0.post0)\n",
            "Requirement already satisfied: pytz>=2020.1 in /usr/local/lib/python3.12/dist-packages (from pandas) (2025.2)\n",
            "Requirement already satisfied: tzdata>=2022.7 in /usr/local/lib/python3.12/dist-packages (from pandas) (2025.2)\n",
            "Requirement already satisfied: six>=1.5 in /usr/local/lib/python3.12/dist-packages (from python-dateutil>=2.8.2->pandas) (1.17.0)\n"
          ]
        }
      ],
      "source": [
        "!pip install numpy pandas"
      ]
    },
    {
      "cell_type": "code",
      "source": [
        "from dataclasses import dataclass\n",
        "from typing import Literal, Dict, Tuple\n",
        "import pandas as pd\n",
        "import numpy as np"
      ],
      "metadata": {
        "id": "V5YVZ7-lM7AN"
      },
      "execution_count": 12,
      "outputs": []
    },
    {
      "cell_type": "code",
      "source": [
        "@dataclass(frozen=True)\n",
        "class Pesos:\n",
        "  # weight = pesos. como geralmente é usado w para coeficiente de vetor, vou usar aqui também\n",
        "  w_pav: float = 0.20    # bloco Pavimento (média dos 5 subindicadores)\n",
        "  w_sin: float = 0.10    # bloco Sinalização (0,5*RSH + 0,5*média(RSV,SSV,CSV))\n",
        "  w_dren: float = 0.05   # média(OAC_DS, OAC_DP)\n",
        "  w_oae: float = 0.05    # OAE\n",
        "  w_ida: float = 0.025   # IDA\n",
        "  w_ean: float = 0.05    # O_EAn\n",
        "  w_eac: float = 0.25    # O_EAC\n",
        "  w_ouv: float = 0.10    # média(U_IS, U_SA, U_RR, U_PR)\n",
        "  w_smed: float = 0.10   # U_SMed\n",
        "  w_smec: float = 0.10   # U_SMec\n",
        "\n",
        "  def soma(self) -> float:\n",
        "    return (self.w_pav + self.w_sin + self.w_dren + self.w_oae + self.w_ida + self.w_ean + self.w_eac + self.w_ouv + self.w_smed + self.w_smec)\n",
        "\n",
        "PESOS = Pesos()"
      ],
      "metadata": {
        "id": "vyfXKC_ZNCKx"
      },
      "execution_count": 13,
      "outputs": []
    },
    {
      "cell_type": "markdown",
      "source": [
        "## Calcular a nota geral"
      ],
      "metadata": {
        "id": "jvVv1ZzBOsX4"
      }
    },
    {
      "cell_type": "code",
      "source": [
        "# função auxiliar só para limitar as notas ao intervalo de 0 a 10\n",
        "def _clip01(x: pd.Series | float, clip_0_10: bool) -> pd.Series | float:\n",
        "    return np.clip(x, 0, 10) if clip_0_10 else x\n",
        "\n",
        "def calcular_ng(df: pd.DataFrame, pesos: Pesos = PESOS, clip_0_10: bool = True) -> pd.Series:\n",
        "    \"\"\"\n",
        "    Calcula a Nota Global (NG) linha a linha.\n",
        "    Retorna uma pd.Series com a NG.\n",
        "    \"\"\"\n",
        "    # Pavimento: média simples de 5 subindicadores\n",
        "    pav = (_clip01(df['P_IRI'], clip_0_10) + _clip01(df['P_DC'], clip_0_10) +\n",
        "           _clip01(df['P_TR'], clip_0_10) + _clip01(df['P_IFI'], clip_0_10) +\n",
        "           _clip01(df['P_pctTRIN'], clip_0_10)) / 5.0\n",
        "\n",
        "    # Sinalização: 0,5*RSH + 0,5*média(RSV,SSV,CSV)\n",
        "    sin_media_placas = (_clip01(df['S_RSV'], clip_0_10) +\n",
        "                        _clip01(df['S_SSV'], clip_0_10) +\n",
        "                        _clip01(df['S_CSV'], clip_0_10)) / 3.0\n",
        "    sin = 0.5 * _clip01(df['S_RSH'], clip_0_10) + 0.5 * sin_media_placas\n",
        "\n",
        "    # Drenagem (correntes): média simples\n",
        "    dren = (_clip01(df['OAC_DS'], clip_0_10) + _clip00(df['OAC_DP'], clip_0_10)) / 2.0\n",
        "\n",
        "    # Ouvidoria: média dos quatro subindicadores\n",
        "    ouv = (_clip01(df['U_IS'], clip_0_10) + _clip01(df['U_SA'], clip_0_10) +\n",
        "           _clip01(df['U_RR'], clip_0_10) + _clip01(df['U_PR'], clip_0_10)) / 4.0\n",
        "\n",
        "    # Termos isolados\n",
        "    oae  = _clip01(df['OAE'], clip_0_10)\n",
        "    ida  = _clip01(df['IDA'], clip_0_10)\n",
        "    ean  = _clip01(df['O_EAn'], clip_0_10)\n",
        "    eac  = _clip01(df['O_EAC'], clip_0_10)\n",
        "    smed = _clip01(df['U_SMed'], clip_0_10)\n",
        "    smec = _clip01(df['U_SMec'], clip_0_10)\n",
        "\n",
        "    ng = (pesos.w_pav  * pav +\n",
        "          pesos.w_sin  * sin +\n",
        "          pesos.w_dren * dren +\n",
        "          pesos.w_oae  * oae +\n",
        "          pesos.w_ida  * ida +\n",
        "          pesos.w_ean  * ean +\n",
        "          pesos.w_eac  * eac +\n",
        "          pesos.w_ouv  * ouv +\n",
        "          pesos.w_smed * smed +\n",
        "          pesos.w_smec * smec)\n",
        "\n",
        "    # #Imprima a soma dos pesos para auditoria\n",
        "    if not np.isclose(pesos.soma(), 1.0, atol=1e-6):\n",
        "        print(f\"[AVISO] Soma dos pesos = {pesos.soma():.3f} (≠ 1.000).\")\n",
        "\n",
        "    return ng"
      ],
      "metadata": {
        "id": "ndY6268pOolc"
      },
      "execution_count": 14,
      "outputs": []
    },
    {
      "cell_type": "markdown",
      "source": [
        "## Classificação A/B/C/D\n",
        "\n",
        "Além da numérica, eles também usam uma equivalente mas usando letras"
      ],
      "metadata": {
        "id": "jR57RnifQIoc"
      }
    },
    {
      "cell_type": "code",
      "source": [
        "TipoAno = Literal[\"1\", \"2\", \"3\", \"4+\"]\n",
        "\n",
        "def classificar_ng(ng: float, ano_classificacao: TipoAno) -> str:\n",
        "    \"\"\"\n",
        "    Retorna A/B/C/D LEVANDO EM CONSIDERAÇÃO o tempo que a fiscalização está sendo realizada.\n",
        "    \"\"\"\n",
        "    if ano_classificacao == \"1\":\n",
        "        if ng >= 8.0:             return \"A\"\n",
        "        if 5.5 <= ng < 8.0:       return \"B\"\n",
        "        if 3.5 <= ng < 5.5:       return \"C\"\n",
        "        return \"D\"                # ng < 3.5\n",
        "\n",
        "    if ano_classificacao == \"2\":\n",
        "        if ng > 8.0:              return \"A\"\n",
        "        if 6.0 <= ng <= 8.0:      return \"B\"\n",
        "        if 4.0 < ng < 6.0:        return \"C\"\n",
        "        return \"D\"                # ng <= 4.0\n",
        "\n",
        "    if ano_classificacao == \"3\":\n",
        "        if ng >= 8.5:             return \"A\"\n",
        "        if 6.5 <= ng < 8.5:       return \"B\"\n",
        "        if 4.5 < ng < 6.5:        return \"C\"\n",
        "        return \"D\"                # ng <= 4.5\n",
        "\n",
        "    # \"4+\" (a partir do quarto ano)\n",
        "    if ng >= 8.5:                 return \"A\"\n",
        "    if 7.0 <= ng < 8.5:           return \"B\"\n",
        "    if 5.0 <= ng < 7.0:           return \"C\"\n",
        "    return \"D\"                    # ng < 5.0"
      ],
      "metadata": {
        "id": "FUJl_u85QsBg"
      },
      "execution_count": 15,
      "outputs": []
    },
    {
      "cell_type": "code",
      "source": [
        "# só jogar o dicionário em pandas e o ano de classificação\n",
        "def ranquear(df: pd.DataFrame, ano_classificacao: TipoAno, pesos: Pesos = PESOS, clip_0_10: bool = True) -> pd.DataFrame:\n",
        "    \"\"\"\n",
        "    Adiciona colunas: NG, Classe, Rank (ordem decrescente da NG).\n",
        "    \"\"\"\n",
        "    df = df.copy()\n",
        "    df['NG'] = calcular_ng(df, pesos=pesos, clip_0_10=clip_0_10)\n",
        "    df['Classe'] = df['NG'].apply(lambda x: classificar_ng(float(x), ano_classificacao))\n",
        "    df['Rank'] = df['NG'].rank(method='dense', ascending=False).astype(int)\n",
        "    return df.sort_values(['NG','concessionaria'], ascending=[False, True]).reset_index(drop=True)"
      ],
      "metadata": {
        "id": "c69ndkIHQ7LI"
      },
      "execution_count": 16,
      "outputs": []
    },
    {
      "cell_type": "code",
      "source": [],
      "metadata": {
        "id": "ltmjKgksQ8IC"
      },
      "execution_count": 16,
      "outputs": []
    }
  ]
}