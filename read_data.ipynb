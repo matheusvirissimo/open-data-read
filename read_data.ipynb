{
  "cells": [
    {
      "cell_type": "markdown",
      "metadata": {
        "id": "mvNnbBTBZ5Jp"
      },
      "source": [
        "## Libs usadas\n",
        "\n",
        "> numpy:\n",
        "Usar para manipulação aritmética de forma eficiente\n",
        "\n",
        "> pandas:\n",
        "Manipulação de arquivos csv, tabelas, estruturas de dados\n",
        "\n",
        "> duckdb:\n",
        "Roda os arquivos tudo em memória. Rápido e eficiente.\n",
        "\n",
        "> parquet:\n",
        "Armazenamento rápido e eficiente para grandes bases de dados"
      ]
    },
    {
      "cell_type": "code",
      "execution_count": null,
      "metadata": {
        "colab": {
          "base_uri": "https://localhost:8080/"
        },
        "id": "Qoeakl9tXPdL",
        "outputId": "bfab84c9-2e36-4f85-9942-b0768074993f"
      },
      "outputs": [],
      "source": [
        "!pip install duckdb pandas numpy pyarrow"
      ]
    },
    {
      "cell_type": "code",
      "execution_count": null,
      "metadata": {
        "id": "qAUpT4PjYOxO"
      },
      "outputs": [],
      "source": [
        "import pandas as pd\n",
        "import duckdb as db\n",
        "import pyarrow.parquet as pq\n",
        "from pathlib import Path"
      ]
    },
    {
      "cell_type": "code",
      "execution_count": null,
      "metadata": {
        "id": "60ns-0lGrNdW"
      },
      "outputs": [],
      "source": [
        "from google.colab import files\n",
        "files.upload()"
      ]
    },
    {
      "cell_type": "code",
      "execution_count": null,
      "metadata": {
        "collapsed": true,
        "id": "nAQ5C3motKgR"
      },
      "outputs": [],
      "source": [
        "df = pd.read_excel(\"recursos.xlsx\")"
      ]
    },
    {
      "cell_type": "code",
      "execution_count": null,
      "metadata": {
        "id": "2BhZICNjtg4R"
      },
      "outputs": [],
      "source": [
        "df.to_csv(\"converted_recursos.csv\", index=False)"
      ]
    },
    {
      "cell_type": "code",
      "execution_count": null,
      "metadata": {
        "colab": {
          "base_uri": "https://localhost:8080/"
        },
        "id": "1lgW2MgQu9_W",
        "outputId": "fc53989f-320b-412a-bb1a-25d17842a5da"
      },
      "outputs": [
        {
          "name": "stdout",
          "output_type": "stream",
          "text": [
            "converted_recursos.csv\t\t  drive\n",
            "disponibilidade-jan-abr-2025.csv  recursos.xlsx\n",
            "disponibilidade-mai-ago-2025.csv  sample_data\n"
          ]
        }
      ],
      "source": [
        "!ls"
      ]
    },
    {
      "cell_type": "code",
      "execution_count": null,
      "metadata": {
        "id": "jwxIKt70wN7M"
      },
      "outputs": [],
      "source": [
        "data_csv = {\n",
        "    \"disponibilidade1\": \"disponibilidade-jan-abr-2025.csv\",\n",
        "    \"disponibilidade2\": \"disponibilidade-mai-ago-2025.csv\",\n",
        "    \"recursos\": \"converted_recursos.csv\"\n",
        "}"
      ]
    },
    {
      "cell_type": "code",
      "execution_count": null,
      "metadata": {
        "colab": {
          "base_uri": "https://localhost:8080/"
        },
        "id": "0_eCWfK2wk1C",
        "outputId": "d67c2eec-f310-41f0-abac-68b1582108e6"
      },
      "outputs": [
        {
          "name": "stdout",
          "output_type": "stream",
          "text": [
            "disponibilidade-jan-abr-2025.csv -> disponibilidade-jan-abr-2025.parquet\n",
            "disponibilidade-mai-ago-2025.csv -> disponibilidade-mai-ago-2025.parquet\n",
            "converted_recursos.csv -> converted_recursos.parquet\n"
          ]
        }
      ],
      "source": [
        "for nome, csv_path in data_csv.items():\n",
        "  parquet_path = Path(csv_path).with_suffix(\".parquet\")\n",
        "\n",
        "  # fazer leitura do CSV com pandas\n",
        "  df = pd.read_csv(csv_path, encoding='latin1') #mudar o enconding\n",
        "\n",
        "  # Salvar agora como parquet\n",
        "                #caminho do parquet\n",
        "  df.to_parquet(parquet_path, engine=\"pyarrow\", compression=\"zstd\")\n",
        "\n",
        "  # se deu certo vamos ver\n",
        "  print(f\"{csv_path} -> {parquet_path}\")"
      ]
    },
    {
      "cell_type": "code",
      "execution_count": null,
      "metadata": {
        "colab": {
          "base_uri": "https://localhost:8080/"
        },
        "id": "9FTohsCLyTud",
        "outputId": "e822dbea-e994-47cf-c1c1-b38d2f81adbf"
      },
      "outputs": [],
      "source": [
        "!ls"
      ]
    },
    {
      "cell_type": "code",
      "execution_count": null,
      "metadata": {
        "id": "T3A1HcxmyUUy"
      },
      "outputs": [],
      "source": [
        "con = db.connect()\n",
        "\n",
        "for nome, csv_path in data_csv.items():\n",
        "  parquet_path = Path(csv_path).with_suffix(\".parquet\")\n",
        "\n",
        "  con.execute(f\"\"\"\n",
        "        CREATE OR REPLACE TABLE \"{nome}\" AS\n",
        "        SELECT * FROM read_parquet('{parquet_path}')\n",
        "    \"\"\")"
      ]
    },
    {
      "cell_type": "code",
      "execution_count": null,
      "metadata": {
        "colab": {
          "base_uri": "https://localhost:8080/"
        },
        "id": "Ur2fOjg2y0NH",
        "outputId": "b98c11c9-ebeb-4cf4-999d-5f7f40671b22"
      },
      "outputs": [
        {
          "name": "stdout",
          "output_type": "stream",
          "text": [
            "disponibilidade1     total\n",
            "0  732168\n",
            "disponibilidade2     total\n",
            "0  771264\n",
            "recursos    total\n",
            "0  34396\n"
          ]
        }
      ],
      "source": [
        "# Exemplo: contar registros em cada tabela\n",
        "for name in data_csv.keys():\n",
        "    result = con.execute(f\"SELECT COUNT(*) AS total FROM {name}\").fetchdf()\n",
        "    print(name, result)\n"
      ]
    }
  ],
  "metadata": {
    "colab": {
      "provenance": []
    },
    "kernelspec": {
      "display_name": "Python 3",
      "name": "python3"
    },
    "language_info": {
      "name": "python"
    }
  },
  "nbformat": 4,
  "nbformat_minor": 0
}
